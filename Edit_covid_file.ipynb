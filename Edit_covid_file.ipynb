{
 "cells": [
  {
   "cell_type": "code",
   "execution_count": 1,
   "id": "18965bd6",
   "metadata": {},
   "outputs": [],
   "source": [
    "import pandas as pd"
   ]
  },
  {
   "cell_type": "code",
   "execution_count": 3,
   "id": "be66c597",
   "metadata": {},
   "outputs": [],
   "source": [
    "covid_data = pd.read_csv(\"C:/Users/dianv/OneDrive/Documents/GitHub/Covid_Tableau_Analysis/owid-covid-data.csv\")"
   ]
  },
  {
   "cell_type": "code",
   "execution_count": 5,
   "id": "d065fe75",
   "metadata": {},
   "outputs": [],
   "source": [
    "new_covid_data = covid_data.fillna(0)"
   ]
  },
  {
   "cell_type": "code",
   "execution_count": 10,
   "id": "385f9d4d",
   "metadata": {},
   "outputs": [],
   "source": [
    "new_covid_data.to_csv('testing.csv', index=False)"
   ]
  }
 ],
 "metadata": {
  "kernelspec": {
   "display_name": "Python 3.9.13 ('base')",
   "language": "python",
   "name": "python3"
  },
  "language_info": {
   "codemirror_mode": {
    "name": "ipython",
    "version": 3
   },
   "file_extension": ".py",
   "mimetype": "text/x-python",
   "name": "python",
   "nbconvert_exporter": "python",
   "pygments_lexer": "ipython3",
   "version": "3.9.13"
  },
  "vscode": {
   "interpreter": {
    "hash": "699095cde074ce2c908f056ab98e01a0a8a695ea3857c547be31562c7b4b06ad"
   }
  }
 },
 "nbformat": 4,
 "nbformat_minor": 5
}
